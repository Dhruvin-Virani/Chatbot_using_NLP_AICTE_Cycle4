{
 "cells": [
  {
   "cell_type": "code",
   "execution_count": 1,
   "id": "1e4eaeea-ef76-4c8e-a85c-c2b9c0d69d4f",
   "metadata": {},
   "outputs": [
    {
     "name": "stdout",
     "output_type": "stream",
     "text": [
      "Requirement already satisfied: nltk in d:\\for_ide\\anaconda\\lib\\site-packages (3.8.1)\n",
      "Requirement already satisfied: scikit-learn in d:\\for_ide\\anaconda\\lib\\site-packages (1.4.2)\n",
      "Requirement already satisfied: streamlit in d:\\for_ide\\anaconda\\lib\\site-packages (1.32.0)\n",
      "Requirement already satisfied: click in d:\\for_ide\\anaconda\\lib\\site-packages (from nltk) (8.1.7)\n",
      "Requirement already satisfied: joblib in d:\\for_ide\\anaconda\\lib\\site-packages (from nltk) (1.4.2)\n",
      "Requirement already satisfied: regex>=2021.8.3 in d:\\for_ide\\anaconda\\lib\\site-packages (from nltk) (2023.10.3)\n",
      "Requirement already satisfied: tqdm in c:\\users\\lenovo\\appdata\\roaming\\python\\python312\\site-packages (from nltk) (4.67.1)\n",
      "Requirement already satisfied: numpy>=1.19.5 in d:\\for_ide\\anaconda\\lib\\site-packages (from scikit-learn) (1.26.4)\n",
      "Requirement already satisfied: scipy>=1.6.0 in d:\\for_ide\\anaconda\\lib\\site-packages (from scikit-learn) (1.13.1)\n",
      "Requirement already satisfied: threadpoolctl>=2.0.0 in d:\\for_ide\\anaconda\\lib\\site-packages (from scikit-learn) (2.2.0)\n",
      "Requirement already satisfied: altair<6,>=4.0 in d:\\for_ide\\anaconda\\lib\\site-packages (from streamlit) (5.0.1)\n",
      "Requirement already satisfied: blinker<2,>=1.0.0 in d:\\for_ide\\anaconda\\lib\\site-packages (from streamlit) (1.6.2)\n",
      "Requirement already satisfied: cachetools<6,>=4.0 in d:\\for_ide\\anaconda\\lib\\site-packages (from streamlit) (5.3.3)\n",
      "Requirement already satisfied: packaging<24,>=16.8 in d:\\for_ide\\anaconda\\lib\\site-packages (from streamlit) (23.2)\n",
      "Requirement already satisfied: pandas<3,>=1.3.0 in c:\\users\\lenovo\\appdata\\roaming\\python\\python312\\site-packages (from streamlit) (2.2.3)\n",
      "Requirement already satisfied: pillow<11,>=7.1.0 in d:\\for_ide\\anaconda\\lib\\site-packages (from streamlit) (10.3.0)\n",
      "Requirement already satisfied: protobuf<5,>=3.20 in d:\\for_ide\\anaconda\\lib\\site-packages (from streamlit) (3.20.3)\n",
      "Requirement already satisfied: pyarrow>=7.0 in d:\\for_ide\\anaconda\\lib\\site-packages (from streamlit) (14.0.2)\n",
      "Requirement already satisfied: requests<3,>=2.27 in d:\\for_ide\\anaconda\\lib\\site-packages (from streamlit) (2.32.2)\n",
      "Requirement already satisfied: rich<14,>=10.14.0 in d:\\for_ide\\anaconda\\lib\\site-packages (from streamlit) (13.3.5)\n",
      "Requirement already satisfied: tenacity<9,>=8.1.0 in d:\\for_ide\\anaconda\\lib\\site-packages (from streamlit) (8.2.2)\n",
      "Requirement already satisfied: toml<2,>=0.10.1 in d:\\for_ide\\anaconda\\lib\\site-packages (from streamlit) (0.10.2)\n",
      "Requirement already satisfied: typing-extensions<5,>=4.3.0 in c:\\users\\lenovo\\appdata\\roaming\\python\\python312\\site-packages (from streamlit) (4.12.2)\n",
      "Requirement already satisfied: gitpython!=3.1.19,<4,>=3.0.7 in d:\\for_ide\\anaconda\\lib\\site-packages (from streamlit) (3.1.37)\n",
      "Requirement already satisfied: pydeck<1,>=0.8.0b4 in d:\\for_ide\\anaconda\\lib\\site-packages (from streamlit) (0.8.0)\n",
      "Requirement already satisfied: tornado<7,>=6.0.3 in d:\\for_ide\\anaconda\\lib\\site-packages (from streamlit) (6.4.1)\n",
      "Requirement already satisfied: watchdog>=2.1.5 in d:\\for_ide\\anaconda\\lib\\site-packages (from streamlit) (4.0.1)\n",
      "Requirement already satisfied: jinja2 in d:\\for_ide\\anaconda\\lib\\site-packages (from altair<6,>=4.0->streamlit) (3.1.4)\n",
      "Requirement already satisfied: jsonschema>=3.0 in d:\\for_ide\\anaconda\\lib\\site-packages (from altair<6,>=4.0->streamlit) (4.19.2)\n",
      "Requirement already satisfied: toolz in d:\\for_ide\\anaconda\\lib\\site-packages (from altair<6,>=4.0->streamlit) (0.12.0)\n",
      "Requirement already satisfied: colorama in c:\\users\\lenovo\\appdata\\roaming\\python\\python312\\site-packages (from click->nltk) (0.4.6)\n",
      "Requirement already satisfied: gitdb<5,>=4.0.1 in d:\\for_ide\\anaconda\\lib\\site-packages (from gitpython!=3.1.19,<4,>=3.0.7->streamlit) (4.0.7)\n",
      "Requirement already satisfied: python-dateutil>=2.8.2 in c:\\users\\lenovo\\appdata\\roaming\\python\\python312\\site-packages (from pandas<3,>=1.3.0->streamlit) (2.9.0.post0)\n",
      "Requirement already satisfied: pytz>=2020.1 in c:\\users\\lenovo\\appdata\\roaming\\python\\python312\\site-packages (from pandas<3,>=1.3.0->streamlit) (2025.1)\n",
      "Requirement already satisfied: tzdata>=2022.7 in c:\\users\\lenovo\\appdata\\roaming\\python\\python312\\site-packages (from pandas<3,>=1.3.0->streamlit) (2025.1)\n",
      "Requirement already satisfied: charset-normalizer<4,>=2 in d:\\for_ide\\anaconda\\lib\\site-packages (from requests<3,>=2.27->streamlit) (2.0.4)\n",
      "Requirement already satisfied: idna<4,>=2.5 in c:\\users\\lenovo\\appdata\\roaming\\python\\python312\\site-packages (from requests<3,>=2.27->streamlit) (3.10)\n",
      "Requirement already satisfied: urllib3<3,>=1.21.1 in d:\\for_ide\\anaconda\\lib\\site-packages (from requests<3,>=2.27->streamlit) (2.2.2)\n",
      "Requirement already satisfied: certifi>=2017.4.17 in c:\\users\\lenovo\\appdata\\roaming\\python\\python312\\site-packages (from requests<3,>=2.27->streamlit) (2024.8.30)\n",
      "Requirement already satisfied: markdown-it-py<3.0.0,>=2.2.0 in d:\\for_ide\\anaconda\\lib\\site-packages (from rich<14,>=10.14.0->streamlit) (2.2.0)\n",
      "Requirement already satisfied: pygments<3.0.0,>=2.13.0 in d:\\for_ide\\anaconda\\lib\\site-packages (from rich<14,>=10.14.0->streamlit) (2.15.1)\n",
      "Requirement already satisfied: smmap<5,>=3.0.1 in d:\\for_ide\\anaconda\\lib\\site-packages (from gitdb<5,>=4.0.1->gitpython!=3.1.19,<4,>=3.0.7->streamlit) (4.0.0)\n",
      "Requirement already satisfied: MarkupSafe>=2.0 in d:\\for_ide\\anaconda\\lib\\site-packages (from jinja2->altair<6,>=4.0->streamlit) (2.1.3)\n",
      "Requirement already satisfied: attrs>=22.2.0 in d:\\for_ide\\anaconda\\lib\\site-packages (from jsonschema>=3.0->altair<6,>=4.0->streamlit) (23.1.0)\n",
      "Requirement already satisfied: jsonschema-specifications>=2023.03.6 in d:\\for_ide\\anaconda\\lib\\site-packages (from jsonschema>=3.0->altair<6,>=4.0->streamlit) (2023.7.1)\n",
      "Requirement already satisfied: referencing>=0.28.4 in d:\\for_ide\\anaconda\\lib\\site-packages (from jsonschema>=3.0->altair<6,>=4.0->streamlit) (0.30.2)\n",
      "Requirement already satisfied: rpds-py>=0.7.1 in d:\\for_ide\\anaconda\\lib\\site-packages (from jsonschema>=3.0->altair<6,>=4.0->streamlit) (0.10.6)\n",
      "Requirement already satisfied: mdurl~=0.1 in d:\\for_ide\\anaconda\\lib\\site-packages (from markdown-it-py<3.0.0,>=2.2.0->rich<14,>=10.14.0->streamlit) (0.1.0)\n",
      "Requirement already satisfied: six>=1.5 in c:\\users\\lenovo\\appdata\\roaming\\python\\python312\\site-packages (from python-dateutil>=2.8.2->pandas<3,>=1.3.0->streamlit) (1.17.0)\n",
      "Note: you may need to restart the kernel to use updated packages.\n"
     ]
    }
   ],
   "source": [
    "pip install nltk scikit-learn streamlit"
   ]
  },
  {
   "cell_type": "code",
   "execution_count": 9,
   "id": "c18a343f-dac8-43f7-99d2-253d3655a44d",
   "metadata": {},
   "outputs": [],
   "source": [
    "# Importing necessary libraries\n",
    "import nltk\n",
    "import random\n",
    "import os\n",
    "import ssl\n",
    "import json\n",
    "import streamlit as st\n",
    "from sklearn.feature_extraction.text import TfidfVectorizer\n",
    "from sklearn.linear_model import LogisticRegression"
   ]
  },
  {
   "cell_type": "code",
   "execution_count": 11,
   "id": "9588bc73-2f46-4933-9b85-03253816b77a",
   "metadata": {},
   "outputs": [
    {
     "name": "stderr",
     "output_type": "stream",
     "text": [
      "[nltk_data] Downloading package punkt to\n",
      "[nltk_data]     C:\\Users\\Lenovo\\AppData\\Roaming\\nltk_data...\n",
      "[nltk_data]   Package punkt is already up-to-date!\n"
     ]
    },
    {
     "data": {
      "text/plain": [
       "True"
      ]
     },
     "execution_count": 11,
     "metadata": {},
     "output_type": "execute_result"
    }
   ],
   "source": [
    "ssl._create_default_https_context = ssl._create_unverified_context\n",
    "nltk.data.path.append(os.path.abspath('nltk_data'))\n",
    "nltk.download('punkt')"
   ]
  },
  {
   "cell_type": "code",
   "execution_count": 19,
   "id": "4f2b967d-9254-4096-bdc2-33e0c28af66d",
   "metadata": {},
   "outputs": [
    {
     "data": {
      "text/plain": [
       "{'intents': [{'tag': 'greeting',\n",
       "   'patterns': ['Hi', 'Hello', 'Hey', 'Whatâ€™s up', 'How are you'],\n",
       "   'responses': ['Hi there!',\n",
       "    'Hello!',\n",
       "    'Hey!',\n",
       "    'Nothing much.',\n",
       "    'Iâ€™m fine, thank you.']},\n",
       "  {'tag': 'goodbye',\n",
       "   'patterns': ['Bye', 'See you later', 'Goodbye', 'Take care'],\n",
       "   'responses': ['Goodbye!', 'See you later!', 'Take care!']},\n",
       "  {'tag': 'thanks',\n",
       "   'patterns': ['Thank you', 'Thanks', 'Thanks a lot', 'I appreciate it'],\n",
       "   'responses': [\"You're welcome!\", 'No problem!', 'Glad I could help.']},\n",
       "  {'tag': 'about',\n",
       "   'patterns': ['What can you do?', 'Who are you?', 'What is your purpose?'],\n",
       "   'responses': ['I am a finance chatbot for India.',\n",
       "    'I help with financial queries like banking, investments, and budgeting.']},\n",
       "  {'tag': 'budgeting',\n",
       "   'patterns': ['How can I make a budget?',\n",
       "    'Best budgeting strategy?',\n",
       "    'How do I manage expenses?'],\n",
       "   'responses': ['Use the 50/30/20 rule: 50% for needs, 30% for wants, 20% for savings.',\n",
       "    'Track your income and expenses, set financial goals, and cut unnecessary costs.']},\n",
       "  {'tag': 'credit_score',\n",
       "   'patterns': ['What is a credit score?',\n",
       "    'How can I check my credit score?',\n",
       "    'How to improve my credit score?'],\n",
       "   'responses': ['A credit score reflects your creditworthiness. Higher scores mean better chances of getting loans.',\n",
       "    'Check your score for free on CIBIL, Experian, or BankBazaar.',\n",
       "    'Pay EMIs on time, reduce credit utilization, and avoid multiple loan applications.']},\n",
       "  {'tag': 'investment',\n",
       "   'patterns': ['Best investment options in India?',\n",
       "    'Where should I invest?',\n",
       "    'FD vs Mutual Fund?',\n",
       "    'Stock market or real estate?'],\n",
       "   'responses': ['Investment depends on your risk appetite. Safe options: FDs, PPF, Bonds. Higher return: Stocks, Mutual Funds.',\n",
       "    'Mutual funds can offer better returns but carry risks. FD is safer but offers lower returns.']},\n",
       "  {'tag': 'loans',\n",
       "   'patterns': ['What are the types of loans?',\n",
       "    'Best loan for buying a home?',\n",
       "    'How to get a personal loan?'],\n",
       "   'responses': ['Common loans: Home Loan, Personal Loan, Education Loan, Car Loan, Business Loan.',\n",
       "    'For home loans, check interest rates at SBI, HDFC, ICICI, and other banks.',\n",
       "    'To get a personal loan, maintain a good credit score and provide proof of income.']},\n",
       "  {'tag': 'taxes',\n",
       "   'patterns': ['What is income tax?',\n",
       "    'How to save tax in India?',\n",
       "    'What is 80C deduction?'],\n",
       "   'responses': ['Income tax is a tax on your earnings. India has different slabs based on income.',\n",
       "    'Save tax by investing in PPF, ELSS, NPS, and using deductions like 80C, 80D.',\n",
       "    'Under 80C, you can claim deductions up to â‚¹1.5 lakh for investments in LIC, PPF, EPF, ELSS.']},\n",
       "  {'tag': 'fd_rates',\n",
       "   'patterns': ['What is the FD rate in SBI?',\n",
       "    'Latest FD rates in HDFC?',\n",
       "    'Current fixed deposit rates in BOI?'],\n",
       "   'responses': ['Let me check the latest FD rates for you. Please wait a moment.']},\n",
       "  {'tag': 'mutual_funds',\n",
       "   'patterns': ['Best mutual funds for 2024?',\n",
       "    'How to invest in mutual funds?',\n",
       "    'What is SIP?'],\n",
       "   'responses': ['A Systematic Investment Plan (SIP) helps you invest in mutual funds monthly.',\n",
       "    'Top funds depend on market conditions. Check Moneycontrol or Groww for rankings.']},\n",
       "  {'tag': 'upi',\n",
       "   'patterns': ['How to set up UPI?',\n",
       "    'Best UPI apps in India?',\n",
       "    'Is UPI safe?'],\n",
       "   'responses': ['To set up UPI, link your bank account to Google Pay, PhonePe, or Paytm and create a UPI PIN.',\n",
       "    'UPI apps include Google Pay, PhonePe, Paytm, and BHIM UPI.',\n",
       "    'UPI is safe if you do not share your PIN or OTP with anyone.']}]}"
      ]
     },
     "execution_count": 19,
     "metadata": {},
     "output_type": "execute_result"
    }
   ],
   "source": [
    "with open(\"intents.json\") as file:\n",
    "    intents = json.load(file)\n",
    "intents"
   ]
  },
  {
   "cell_type": "code",
   "execution_count": null,
   "id": "e7898381-ae0f-498e-baa7-5166d4deae53",
   "metadata": {},
   "outputs": [],
   "source": []
  }
 ],
 "metadata": {
  "kernelspec": {
   "display_name": "Python 3 (ipykernel)",
   "language": "python",
   "name": "python3"
  },
  "language_info": {
   "codemirror_mode": {
    "name": "ipython",
    "version": 3
   },
   "file_extension": ".py",
   "mimetype": "text/x-python",
   "name": "python",
   "nbconvert_exporter": "python",
   "pygments_lexer": "ipython3",
   "version": "3.12.4"
  }
 },
 "nbformat": 4,
 "nbformat_minor": 5
}
